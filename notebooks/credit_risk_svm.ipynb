{
 "cells": [
  {
   "cell_type": "markdown",
   "id": "52b34c72-db1a-42ab-ba17-a9b4ca6fa843",
   "metadata": {},
   "source": [
    "# Credit Risk Prediction with SVM"
   ]
  },
  {
   "cell_type": "code",
   "execution_count": null,
   "id": "2a4ec5d0-2fe5-4ffe-a0ec-15f43e1a0a56",
   "metadata": {},
   "outputs": [],
   "source": []
  }
 ],
 "metadata": {
  "kernelspec": {
   "display_name": "Credit Risk SVM Kernel",
   "language": "python",
   "name": "credit-risk-svm-kernel"
  },
  "language_info": {
   "codemirror_mode": {
    "name": "ipython",
    "version": 3
   },
   "file_extension": ".py",
   "mimetype": "text/x-python",
   "name": "python",
   "nbconvert_exporter": "python",
   "pygments_lexer": "ipython3",
   "version": "3.12.2"
  }
 },
 "nbformat": 4,
 "nbformat_minor": 5
}
